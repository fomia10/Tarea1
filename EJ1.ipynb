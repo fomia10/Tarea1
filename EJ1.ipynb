{
  "nbformat": 4,
  "nbformat_minor": 0,
  "metadata": {
    "colab": {
      "provenance": []
    },
    "kernelspec": {
      "name": "python3",
      "display_name": "Python 3"
    },
    "language_info": {
      "name": "python"
    }
  },
  "cells": [
    {
      "cell_type": "markdown",
      "source": [
        "Ejercicio 1"
      ],
      "metadata": {
        "id": "7HCuMq3s7fU8"
      }
    },
    {
      "cell_type": "code",
      "execution_count": null,
      "metadata": {
        "colab": {
          "base_uri": "https://localhost:8080/"
        },
        "id": "WoYkhqTRtEsT",
        "outputId": "44f1dd5f-ec43-4e0a-c34d-3dc7f9f46e74"
      },
      "outputs": [
        {
          "output_type": "stream",
          "name": "stdout",
          "text": [
            "Raiz encontrada: 1.5213813781738281\n",
            "Raiz encontrada: 1.5213797079848717\n",
            "Raiz encontrada: 3347893610469619238964289382536890058711797776646485473325139169243018172214752458251922527982964550703086741150187442/2200564129714450582312089213182921603190479725499887047159240180441724550440323292821159071448658474367211601291468907\n",
            "Raiz encontrada: 1.5213788584038939\n"
          ]
        }
      ],
      "source": [
        "import sympy as sp\n",
        "#1\n",
        "#Metodo de Biseccion\n",
        "\n",
        "def biseccion(funcion, a, b, tolerancia, max_iter):\n",
        "   #Verificar que haya un cambio de signo en [a, b]\n",
        "\n",
        "    if funcion(a) * funcion(b) > 0:\n",
        "        return \"el metodo de biseccion no puede aplicarse: no hay un cambio de signo\"\n",
        "\n",
        "    for i in range(max_iter):\n",
        "        c = (a + b) / 2    #punto medio\n",
        "        if abs(funcion(c)) < tolerancia:    #Comprobar si es raiz\n",
        "            return f\"Raiz encontrada: {c}\"\n",
        "        if funcion(a) * funcion(c) < 0:     #el cambio de signo esta en [a, c]\n",
        "            b = c\n",
        "        else:     #el cambio de signo esta en [c, b]\n",
        "            a = c\n",
        "\n",
        "    return f\"No se encontro raiz tras {max_iter} iteraciones\"\n",
        "\n",
        "#metodo de Secante\n",
        "\n",
        "def secante(funcion, x0, x1, tolerancia, max_iter):\n",
        "\n",
        "    for i in range(max_iter):\n",
        "\n",
        "        if abs(funcion(x1) - funcion(x0)) < 1e-10:     #evitar division por cero\n",
        "            return \"El metodo de secante no puede continuar: division por cero\"\n",
        "\n",
        "        x2 = x1 - funcion(x1) * (x1 - x0) / (funcion(x1) - funcion(x0))\n",
        "\n",
        "        if abs(funcion(x2)) < tolerancia: #Comprobar si es raiz\n",
        "            return f\"Raiz encontrada: {x2}\"\n",
        "        x0, x1 = x1, x2  #Actualizar puntos\n",
        "\n",
        "    return f\"No se encontro raiz tras {max_iter} iteraciones\"\n",
        "\n",
        "#metodo de Newton\n",
        "def newton(funcion_str, x0, tolerancia, max_iter):\n",
        "\n",
        "    x = sp.symbols('x') #Declarar variable simbolica\n",
        "\n",
        "    funcion = sp.sympify(funcion_str) #Convertir cadena a funcion simbolica\n",
        "    derivada = sp.diff(funcion, x) #Derivar funcion\n",
        "    for i in range(max_iter):\n",
        "        fx0 = funcion.subs(x, x0)\n",
        "        dfx0 = derivada.subs(x, x0)\n",
        "        if abs(dfx0) < 1e-10: #Evitar division por cero\n",
        "            return \"El metodo de Newton no puede continuar: derivada cercana a cero\"\n",
        "        x1 = x0 - fx0 / dfx0 #Formula de Newton\n",
        "        if abs(x1 - x0) < tolerancia: #Comprobar convergencia\n",
        "            return f\"Raiz encontrada: {x1}\"\n",
        "        x0 = x1 #Actualizar x0\n",
        "    return f\"No se encontro raiz tras {max_iter} iteraciones\"\n",
        "\n",
        "#metodo de Regla Falsa\n",
        "def regla_falsa(funcion, a, b, tolerancia, max_iter):\n",
        "    if funcion(a) * funcion(b) > 0:\n",
        "        return \"el metodo de regla falsa no puede aplicarse: no hay un cambio de signo\"\n",
        "\n",
        "    for i in range(max_iter):\n",
        "        c = b - funcion(b) * (b - a) / (funcion(b) - funcion(a))  #Formula de Regla Falsa\n",
        "        #Comprobar si es raiz\n",
        "        if abs(funcion(c)) < tolerancia:\n",
        "            return f\"Raiz encontrada: {c}\"\n",
        "        if funcion(a) * funcion(c) < 0:  #el cambio de signo esta en [a, c]\n",
        "            b = c\n",
        "        else:  #el cambio de signo esta en [c, b]\n",
        "            a = c\n",
        "    return f\"No se encontro raiz tras {max_iter} iteraciones\"\n",
        "\n",
        "\n",
        "funcion = lambda x: x**3 - x - 2\n",
        "\n",
        "    #parametros iniciales que tambien se pueden cambiar con inputs con variable = input()\n",
        "a, b = 1, 2\n",
        "x0, x1 = 1, 2\n",
        "tolerancia = 1e-5\n",
        "max_iter = 100\n",
        "\n",
        "print(biseccion(funcion, a, b, tolerancia, max_iter))\n",
        "print(secante(funcion, x0, x1, tolerancia, max_iter))\n",
        "print(newton(\"x**3 - x - 2\", x0, tolerancia, max_iter))\n",
        "print(regla_falsa(funcion, a, b, tolerancia, max_iter))\n"
      ]
    }
  ]
}